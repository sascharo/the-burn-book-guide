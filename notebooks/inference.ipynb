{
 "cells": [
  {
   "cell_type": "code",
   "execution_count": 2,
   "metadata": {},
   "outputs": [
    {
     "data": {
      "text/plain": [
       "Static linking: true\n"
      ]
     },
     "execution_count": 2,
     "metadata": {},
     "output_type": "execute_result"
    }
   ],
   "source": [
    ":allow_static_linking 1"
   ]
  },
  {
   "cell_type": "code",
   "execution_count": 3,
   "metadata": {},
   "outputs": [],
   "source": [
    ":dep lib = { path = \"../lib\" }\n",
    ":dep burn = { version = \"0\", features = [\"wgpu\", \"vision\"] }"
   ]
  },
  {
   "cell_type": "code",
   "execution_count": 4,
   "metadata": {},
   "outputs": [],
   "source": [
    "use lib::{ inference::infer, model::ModelConfig, training::{ train, TrainingConfig } };\n",
    "use burn::{ backend, data::dataset::{ Dataset, vision::MnistDataset }, optim::AdamConfig };"
   ]
  },
  {
   "cell_type": "code",
   "execution_count": 5,
   "metadata": {},
   "outputs": [],
   "source": [
    "type MyBackend = backend::Wgpu<f32, i32>;"
   ]
  },
  {
   "cell_type": "code",
   "execution_count": 6,
   "metadata": {},
   "outputs": [
    {
     "name": "stdout",
     "output_type": "stream",
     "text": [
      "Predicted 4 Expected 4\n"
     ]
    }
   ],
   "source": [
    "let device = backend::wgpu::WgpuDevice::default();\n",
    "\n",
    "let artifact_dir = \"../artifact\";\n",
    "\n",
    "let index = 42;\n",
    "\n",
    "infer::<MyBackend>(\n",
    "    artifact_dir,\n",
    "    device,\n",
    "    MnistDataset::test().get(index).unwrap()\n",
    ");"
   ]
  }
 ],
 "metadata": {
  "kernelspec": {
   "display_name": "Rust",
   "language": "rust",
   "name": "rust"
  },
  "language_info": {
   "codemirror_mode": "rust",
   "file_extension": ".rs",
   "mimetype": "text/rust",
   "name": "rust",
   "pygment_lexer": "rust",
   "version": ""
  }
 },
 "nbformat": 4,
 "nbformat_minor": 2
}
